{
  "cells": [
    {
      "cell_type": "code",
      "execution_count": 1,
      "metadata": {
        "colab": {
          "base_uri": "https://localhost:8080/"
        },
        "id": "vYiaI1ogA77K",
        "outputId": "0cf54454-ee2f-43b4-da12-c5b662d63fe7"
      },
      "outputs": [
        {
          "output_type": "stream",
          "name": "stdout",
          "text": [
            "\u001b[K     |████████████████████████████████| 281.4 MB 46 kB/s \n",
            "\u001b[K     |████████████████████████████████| 199 kB 48.8 MB/s \n",
            "\u001b[?25h  Building wheel for pyspark (setup.py) ... \u001b[?25l\u001b[?25hdone\n"
          ]
        }
      ],
      "source": [
        "# Run below commands in google colab\n",
        "# install Java8\n",
        "!apt-get install openjdk-8-jdk-headless -qq > /dev/null\n",
        "# download spark3.0.0\n",
        "!wget -q https://dlcdn.apache.org/spark/spark-3.3.0/spark-3.3.0-bin-hadoop3.tgz\n",
        "# unzip it\n",
        "!tar xf spark-3.3.0-bin-hadoop3.tgz\n",
        "# install findspark \n",
        "!pip install -q findspark\n",
        "!pip install -q pyspark"
      ]
    },
    {
      "cell_type": "code",
      "execution_count": 2,
      "metadata": {
        "id": "1EOyOKzBBCIn"
      },
      "outputs": [],
      "source": [
        "import os\n",
        "os.environ[\"JAVA_HOME\"] = \"/usr/lib/jvm/java-8-openjdk-amd64\"\n",
        "os.environ[\"SPARK_HOME\"] = \"/content/spark-3.3.0-bin-hadoop3\""
      ]
    },
    {
      "cell_type": "code",
      "execution_count": 3,
      "metadata": {
        "id": "uaWhRrSJBHYv"
      },
      "outputs": [],
      "source": [
        "import findspark\n",
        "from pyspark.sql import SparkSession\n",
        "\n",
        "spark = SparkSession.builder.appName(\"TDE2\").getOrCreate()\n",
        "findspark.init()\n",
        "\n",
        "archive = \"transactions_amostra.csv\"\n",
        "transactions = spark\\\n",
        "              .read.format(\"csv\")\\\n",
        "              .option(\"sep\", \";\")\\\n",
        "              .option(\"inferSchema\", \"True\")\\\n",
        "              .option(\"header\", \"True\")\\\n",
        "              .csv(archive)"
      ]
    },
    {
      "cell_type": "code",
      "source": [
        "# Exercise 1: The number of transactions involving Brazil\n",
        "\n",
        "transactions.select(\"country_or_area\", \"quantity\").show()"
      ],
      "metadata": {
        "colab": {
          "base_uri": "https://localhost:8080/"
        },
        "id": "qUVMRP4SdvQG",
        "outputId": "e71d50d2-d691-44c6-c1b0-ef87ef32a81b"
      },
      "execution_count": 4,
      "outputs": [
        {
          "output_type": "stream",
          "name": "stdout",
          "text": [
            "+--------------------+------------+\n",
            "|     country_or_area|    quantity|\n",
            "+--------------------+------------+\n",
            "|             Belgium|      4135.0|\n",
            "|           Guatemala|     10089.0|\n",
            "|            Barbados|     24113.0|\n",
            "|             Tunisia|       121.0|\n",
            "|           Lithuania|      5419.0|\n",
            "|             Denmark|  1.902844E7|\n",
            "|            Thailand|     59595.0|\n",
            "|            Portugal|     87367.0|\n",
            "|               Congo|         9.0|\n",
            "| Antigua and Barbuda|       648.0|\n",
            "|            Pakistan|     66284.0|\n",
            "|             Albania|     25763.0|\n",
            "|          Azerbaijan|     64941.0|\n",
            "| Antigua and Barbuda|        30.0|\n",
            "|             Namibia|      6750.0|\n",
            "|             Germany|   2649521.0|\n",
            "|Central African Rep.|     30725.0|\n",
            "|             Algeria|2.07859307E8|\n",
            "|              France|      7400.0|\n",
            "|             Albania|     30314.0|\n",
            "+--------------------+------------+\n",
            "only showing top 20 rows\n",
            "\n"
          ]
        }
      ]
    },
    {
      "cell_type": "code",
      "source": [
        "# Exercise 2: The number of transactions per year\n",
        "transactions.printSchema()"
      ],
      "metadata": {
        "colab": {
          "base_uri": "https://localhost:8080/"
        },
        "id": "Xd8gKeNMeFRK",
        "outputId": "3f3493d9-3542-4408-f996-f8f9f659a2df"
      },
      "execution_count": 5,
      "outputs": [
        {
          "output_type": "stream",
          "name": "stdout",
          "text": [
            "root\n",
            " |-- country_or_area: string (nullable = true)\n",
            " |-- year: integer (nullable = true)\n",
            " |-- comm_code: string (nullable = true)\n",
            " |-- commodity: string (nullable = true)\n",
            " |-- flow: string (nullable = true)\n",
            " |-- trade_usd: long (nullable = true)\n",
            " |-- weight_kg: double (nullable = true)\n",
            " |-- quantity_name: string (nullable = true)\n",
            " |-- quantity: double (nullable = true)\n",
            " |-- category: string (nullable = true)\n",
            "\n"
          ]
        }
      ]
    },
    {
      "cell_type": "code",
      "source": [
        "# Exercise 3: The number of transactions per flow type and year"
      ],
      "metadata": {
        "id": "0sxZCqxYeHW0"
      },
      "execution_count": null,
      "outputs": []
    },
    {
      "cell_type": "code",
      "source": [
        "# Exercise 4: The average of commodity values per year"
      ],
      "metadata": {
        "id": "d9BiUERVeJPm"
      },
      "execution_count": null,
      "outputs": []
    },
    {
      "cell_type": "code",
      "source": [
        "# Exercise 5: The average price of commodities per unit type, year, and category in the export flow in Brazil"
      ],
      "metadata": {
        "id": "psf16bgqeKrQ"
      },
      "execution_count": null,
      "outputs": []
    },
    {
      "cell_type": "code",
      "source": [
        "# Exercise 6: The maximum, minimum, and mean transaction price per unit type and year"
      ],
      "metadata": {
        "id": "XiVCw6HfeLzO"
      },
      "execution_count": null,
      "outputs": []
    },
    {
      "cell_type": "code",
      "source": [
        "# Exercise 7: The most commercialized commodity (summing the quantities) in 2016, per flow type"
      ],
      "metadata": {
        "id": "N2Uz8zxweMos"
      },
      "execution_count": null,
      "outputs": []
    }
  ],
  "metadata": {
    "colab": {
      "collapsed_sections": [],
      "provenance": []
    },
    "kernelspec": {
      "display_name": "Python 3",
      "name": "python3"
    },
    "language_info": {
      "name": "python"
    }
  },
  "nbformat": 4,
  "nbformat_minor": 0
}