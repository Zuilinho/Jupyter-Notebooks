{
  "nbformat": 4,
  "nbformat_minor": 0,
  "metadata": {
    "colab": {
      "provenance": [],
      "authorship_tag": "ABX9TyMLyPOw8UVoiNbs+F0Sxl2E",
      "include_colab_link": true
    },
    "kernelspec": {
      "name": "python3",
      "display_name": "Python 3"
    },
    "language_info": {
      "name": "python"
    }
  },
  "cells": [
    {
      "cell_type": "markdown",
      "metadata": {
        "id": "view-in-github",
        "colab_type": "text"
      },
      "source": [
        "<a href=\"https://colab.research.google.com/github/Zuilinho/Jupyter-Notebooks/blob/main/TDE2_BigData_Spark.ipynb\" target=\"_parent\"><img src=\"https://colab.research.google.com/assets/colab-badge.svg\" alt=\"Open In Colab\"/></a>"
      ]
    },
    {
      "cell_type": "code",
      "execution_count": 8,
      "metadata": {
        "id": "IG9HUn0gRtDo"
      },
      "outputs": [],
      "source": [
        "# Run below commands in google colab\n",
        "# install Java8\n",
        "!apt-get install openjdk-8-jdk-headless -qq > /dev/null\n",
        "# download spark3.0.0\n",
        "!wget -q https://dlcdn.apache.org/spark/spark-3.3.1/spark-3.3.1-bin-hadoop3.tgz\n",
        "# unzip it\n",
        "!tar xf spark-3.3.1-bin-hadoop3.tgz\n",
        "# install findspark \n",
        "!pip install -q findspark\n",
        "!pip install -q pyspark"
      ]
    },
    {
      "cell_type": "code",
      "source": [
        "import os\n",
        "os.environ[\"JAVA_HOME\"] = \"/usr/lib/jvm/java-8-openjdk-amd64\"\n",
        "os.environ[\"SPARK_HOME\"] = \"/content/spark-3.3.1-bin-hadoop3\""
      ],
      "metadata": {
        "id": "4HhMb324SXlz"
      },
      "execution_count": 11,
      "outputs": []
    },
    {
      "cell_type": "code",
      "source": [
        "import findspark\n",
        "findspark.init()\n",
        "\n",
        "from pyspark import SparkConf, SparkContext, SparkFiles\n",
        "conf = SparkConf().setAppName(\"TDE2\").setMaster(\"local[*]\")\n",
        "sc = SparkContext.getOrCreate(conf = conf)"
      ],
      "metadata": {
        "id": "14Dxr02wSfI5"
      },
      "execution_count": 12,
      "outputs": []
    },
    {
      "cell_type": "code",
      "source": [
        "# Exercise 1: The number of transactions involving Brazil\n",
        "rdd = sc.textFile(SparkFiles.get(\"/content/transactions_amostra.csv\"))\n",
        "rdd_br = rdd.filter(lambda x: x.split(';')[0] == 'Brazil')\n",
        "rdd_br.count()"
      ],
      "metadata": {
        "colab": {
          "base_uri": "https://localhost:8080/"
        },
        "id": "Xi48o6fNYcOH",
        "outputId": "2b8151f6-359e-4285-c129-fc9aa840cdc5"
      },
      "execution_count": 14,
      "outputs": [
        {
          "output_type": "execute_result",
          "data": {
            "text/plain": [
              "44515"
            ]
          },
          "metadata": {},
          "execution_count": 14
        }
      ]
    },
    {
      "cell_type": "code",
      "source": [
        "#Exercise 2: The number of transactions per year\n"
      ],
      "metadata": {
        "id": "jCwGrGT2YlOu"
      },
      "execution_count": null,
      "outputs": []
    }
  ]
}